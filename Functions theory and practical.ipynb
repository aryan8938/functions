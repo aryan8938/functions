{
 "cells": [
  {
   "cell_type": "markdown",
   "metadata": {},
   "source": [
    "question 1\n",
    "What is the difference between a function and a method in Python?"
   ]
  },
  {
   "cell_type": "code",
   "execution_count": 15,
   "metadata": {},
   "outputs": [],
   "source": [
    "# In Python, both functions and methods are used to perform specific tasks, but they have some key differences>>\n",
    "# Functions\n",
    "# Independent>> Functions are blocks of code that are defined independently and can be called by their name.\n",
    "# Parameter>> They can accept parameters, which are passed explicitly.\n",
    "# Return Values>> Functions may or may not return a value.\n",
    "# No Class Association>> Functions are not associated with any class or object."
   ]
  },
  {
   "cell_type": "code",
   "execution_count": 1,
   "metadata": {},
   "outputs": [
    {
     "name": "stdout",
     "output_type": "stream",
     "text": [
      "8\n"
     ]
    }
   ],
   "source": [
    "def add(a, b):\n",
    "    return a + b\n",
    "\n",
    "result = add(5, 3)\n",
    "print(result) "
   ]
  },
  {
   "cell_type": "code",
   "execution_count": 14,
   "metadata": {},
   "outputs": [],
   "source": [
    "# Methods\n",
    "# Dependent>> Methods are similar to functions but are associated with an object or class.\n",
    "# Self Parameter>>They always include self as their first parameter, which refers to the instance of the class.\n",
    "# Class Association>>Methods can access and modify the data within the object they belong to."
   ]
  },
  {
   "cell_type": "code",
   "execution_count": 3,
   "metadata": {},
   "outputs": [
    {
     "name": "stdout",
     "output_type": "stream",
     "text": [
      "8\n"
     ]
    }
   ],
   "source": [
    "class Calculator:\n",
    "    def add(self, a, b):\n",
    "        return a + b\n",
    "\n",
    "calc = Calculator()\n",
    "result = calc.add(5, 3)\n",
    "print(result)"
   ]
  },
  {
   "cell_type": "code",
   "execution_count": null,
   "metadata": {},
   "outputs": [],
   "source": []
  },
  {
   "cell_type": "code",
   "execution_count": null,
   "metadata": {},
   "outputs": [],
   "source": []
  },
  {
   "cell_type": "code",
   "execution_count": null,
   "metadata": {},
   "outputs": [],
   "source": []
  },
  {
   "cell_type": "markdown",
   "metadata": {},
   "source": [
    "question 2 . Explain the concept of function arguments and parameters in Python."
   ]
  },
  {
   "cell_type": "code",
   "execution_count": 13,
   "metadata": {},
   "outputs": [],
   "source": [
    "# When we define and call a Python function, the term parameter and argument is used to pass information to the function.\n",
    "\n",
    "# parameter>> It is the variable listed inside the parentheses in the function definition.\n",
    "# argument>>It is a value sent to the function when it is called. It is data on which function performs some action and returns the result."
   ]
  },
  {
   "cell_type": "markdown",
   "metadata": {},
   "source": []
  },
  {
   "cell_type": "code",
   "execution_count": 16,
   "metadata": {},
   "outputs": [],
   "source": [
    "##In this example, the function sum_marks() is defined with three parameters, a, b, c, and print the sum of all three values of the arguments passed during a function call."
   ]
  },
  {
   "cell_type": "code",
   "execution_count": 5,
   "metadata": {},
   "outputs": [
    {
     "name": "stdout",
     "output_type": "stream",
     "text": [
      "Total is: 120\n"
     ]
    }
   ],
   "source": [
    "# a, b, c are arguments of the function\n",
    "def my_sum(a, b, c):\n",
    "    s = a + b + c\n",
    "    return s\n",
    "\n",
    "print('Total is:', my_sum(30, 40, 50))"
   ]
  },
  {
   "cell_type": "code",
   "execution_count": null,
   "metadata": {},
   "outputs": [],
   "source": []
  },
  {
   "cell_type": "code",
   "execution_count": null,
   "metadata": {},
   "outputs": [],
   "source": []
  },
  {
   "cell_type": "code",
   "execution_count": null,
   "metadata": {},
   "outputs": [],
   "source": []
  },
  {
   "cell_type": "markdown",
   "metadata": {},
   "source": [
    "question 3 What are the different ways to define and call a function in Python?"
   ]
  },
  {
   "cell_type": "code",
   "execution_count": null,
   "metadata": {},
   "outputs": [],
   "source": [
    "# Basic Function Definition and Call>>>\n",
    "# You can define a function using the def keyword, followed by the function name and parentheses. To call the function, simply use its name followed by parentheses."
   ]
  },
  {
   "cell_type": "code",
   "execution_count": 6,
   "metadata": {},
   "outputs": [
    {
     "name": "stdout",
     "output_type": "stream",
     "text": [
      "Hello, World!\n"
     ]
    }
   ],
   "source": [
    "# Define a function\n",
    "def greet():\n",
    "    print(\"Hello, World!\")\n",
    "\n",
    "# Call the function\n",
    "greet()"
   ]
  },
  {
   "cell_type": "code",
   "execution_count": null,
   "metadata": {},
   "outputs": [],
   "source": [
    "# Function with Parameters>>>\n",
    "# Functions can take parameters, which are specified within the parentheses."
   ]
  },
  {
   "cell_type": "code",
   "execution_count": 7,
   "metadata": {},
   "outputs": [
    {
     "name": "stdout",
     "output_type": "stream",
     "text": [
      "Hello, Alice!\n"
     ]
    }
   ],
   "source": [
    "# Define a function with parameters\n",
    "def greet(name):\n",
    "    print(f\"Hello, {name}!\")\n",
    "\n",
    "# Call the function with an argument\n",
    "greet(\"Alice\")"
   ]
  },
  {
   "cell_type": "code",
   "execution_count": null,
   "metadata": {},
   "outputs": [],
   "source": [
    "# Function with Return Value>>>\n",
    "# Functions can return a value using the return statement."
   ]
  },
  {
   "cell_type": "code",
   "execution_count": 8,
   "metadata": {},
   "outputs": [
    {
     "name": "stdout",
     "output_type": "stream",
     "text": [
      "8\n"
     ]
    }
   ],
   "source": [
    "# Define a function that returns a value\n",
    "def add(a, b):\n",
    "    return a + b\n",
    "\n",
    "# Call the function and store the result\n",
    "result = add(3, 5)\n",
    "print(result)"
   ]
  },
  {
   "cell_type": "code",
   "execution_count": null,
   "metadata": {},
   "outputs": [],
   "source": [
    "# Default Parameter Values>>>\n",
    "# You can provide default values for parameters, which are used if no argument is provided"
   ]
  },
  {
   "cell_type": "code",
   "execution_count": 9,
   "metadata": {},
   "outputs": [
    {
     "name": "stdout",
     "output_type": "stream",
     "text": [
      "Hello, World!\n",
      "Hello, Alice!\n"
     ]
    }
   ],
   "source": [
    "# Define a function with default parameter values\n",
    "def greet(name=\"World\"):\n",
    "    print(f\"Hello, {name}!\")\n",
    "\n",
    "# Call the function without an argument\n",
    "greet()  # Output: Hello, World!\n",
    "\n",
    "# Call the function with an argument\n",
    "greet(\"Alice\") "
   ]
  },
  {
   "cell_type": "code",
   "execution_count": null,
   "metadata": {},
   "outputs": [],
   "source": [
    "# Keyword Arguments>>>\n",
    "# When calling a function, you can specify arguments by name, allowing you to pass them in any order."
   ]
  },
  {
   "cell_type": "markdown",
   "metadata": {},
   "source": [
    "ments by name, allowing you to pass them in any order."
   ]
  },
  {
   "cell_type": "code",
   "execution_count": 10,
   "metadata": {},
   "outputs": [
    {
     "name": "stdout",
     "output_type": "stream",
     "text": [
      "I have a dog named Buddy.\n",
      "I have a cat named Whiskers.\n"
     ]
    }
   ],
   "source": [
    "# Define a function with multiple parameters\n",
    "def describe_pet(animal_type, pet_name):\n",
    "    print(f\"I have a {animal_type} named {pet_name}.\")\n",
    "\n",
    "# Call the function using keyword arguments\n",
    "describe_pet(animal_type=\"dog\", pet_name=\"Buddy\")\n",
    "describe_pet(pet_name=\"Whiskers\", animal_type=\"cat\")b"
   ]
  },
  {
   "cell_type": "code",
   "execution_count": null,
   "metadata": {},
   "outputs": [],
   "source": []
  },
  {
   "cell_type": "code",
   "execution_count": null,
   "metadata": {},
   "outputs": [],
   "source": []
  },
  {
   "cell_type": "code",
   "execution_count": null,
   "metadata": {},
   "outputs": [],
   "source": []
  },
  {
   "cell_type": "markdown",
   "metadata": {},
   "source": [
    "question 4 What is the purpose of the `return` statement in a Python function?"
   ]
  },
  {
   "cell_type": "markdown",
   "metadata": {},
   "source": [
    "The return statement in a Python function is used to exit the function and send a value back to the caller. This allows the function to pass back a specific result or data, which can then be used for further computation or processing in the calling code"
   ]
  },
  {
   "cell_type": "code",
   "execution_count": 12,
   "metadata": {},
   "outputs": [
    {
     "name": "stdout",
     "output_type": "stream",
     "text": [
      "12\n"
     ]
    }
   ],
   "source": [
    "def add_numbers(a, b):\n",
    "    return a + b\n",
    "\n",
    "result = add_numbers(5, 7)\n",
    "print(result) "
   ]
  },
  {
   "cell_type": "code",
   "execution_count": null,
   "metadata": {},
   "outputs": [],
   "source": []
  },
  {
   "cell_type": "code",
   "execution_count": null,
   "metadata": {},
   "outputs": [],
   "source": []
  },
  {
   "cell_type": "code",
   "execution_count": null,
   "metadata": {},
   "outputs": [],
   "source": []
  },
  {
   "cell_type": "markdown",
   "metadata": {},
   "source": [
    "question 5 What are iterators in Python and how do they differ from iterables?"
   ]
  },
  {
   "cell_type": "markdown",
   "metadata": {},
   "source": [
    "<!-- in Python, iterators and iterables are closely related but serve different purposes:\n",
    "\n",
    "Iterables\n",
    "Definition>>>An iterable is any Python object capable of returning its elements one at a time. Examples include lists, tuples, dictionaries, sets, and strings.\n",
    "How it works>>> An iterable object has an __iter__() method that returns an iterator.\n",
    "Usage>>>You can loop over an iterable using a for loop or other iteration tools.\n",
    "\n",
    "Iterators\n",
    "Definition>>>An iterator is an object that represents a stream of data. It is used to iterate over an iterable object.\n",
    "How it works>>>An iterator has a __next__() method that returns the next item in the sequence. When there are no more items, it raises a StopIteration exception.\n",
    "Creatio>>> You can create an iterator from an iterable using the iter() function.\n",
    "\n",
    "Key Differences\n",
    "Nature>>>All iterators are iterables, but not all iterables are iterators. For example, a list is an iterable but not an iterator. However, you can obtain an iterator from a list using iter(list).\n",
    "Methods>>> Iterables have an __iter__() method, while iterators have both __iter__() and __next__() methods1 -->"
   ]
  },
  {
   "cell_type": "code",
   "execution_count": 18,
   "metadata": {},
   "outputs": [],
   "source": [
    "# In Python, iterators and iterables are closely related but serve different purposes:\n",
    "\n",
    "# Iterables\n",
    "# Definition: An iterable is any Python object capable of returning its elements one at a time. Examples include lists, tuples, dictionaries, sets, and strings.\n",
    "# How it works: An iterable object has an __iter__() method that returns an iterator.\n",
    "# Usage: You can loop over an iterable using a for loop or other iteration tools.\n",
    "\n",
    "\n",
    "# Iterators\n",
    "# Definition: An iterator is an object that represents a stream of data. It is used to iterate over an iterable object.\n",
    "# How it works: An iterator has a __next__() method that returns the next item in the sequence. When there are no more items, it raises a StopIteration exception.\n",
    "# Creation: You can create an iterator from an iterable using the iter() function.\n",
    "\n",
    "\n",
    "# Key Differences\n",
    "# Nature: All iterators are iterables, but not all iterables are iterators. For example, a list is an iterable but not an iterator. However, you can obtain an iterator from a list using iter(list).\n",
    "# Methods: Iterables have an __iter__() method, while iterators have both __iter__() and __next__() methods"
   ]
  },
  {
   "cell_type": "code",
   "execution_count": 17,
   "metadata": {},
   "outputs": [
    {
     "name": "stdout",
     "output_type": "stream",
     "text": [
      "1\n",
      "2\n",
      "3\n",
      "1\n",
      "2\n",
      "3\n"
     ]
    }
   ],
   "source": [
    "# Iterable example\n",
    "my_list = [1, 2, 3]\n",
    "for item in my_list:\n",
    "    print(item)\n",
    "\n",
    "# Creating an iterator from an iterable\n",
    "my_iterator = iter(my_list)\n",
    "print(next(my_iterator))  \n",
    "print(next(my_iterator)) \n",
    "print(next(my_iterator))  "
   ]
  },
  {
   "cell_type": "code",
   "execution_count": null,
   "metadata": {},
   "outputs": [],
   "source": []
  },
  {
   "cell_type": "code",
   "execution_count": null,
   "metadata": {},
   "outputs": [],
   "source": []
  },
  {
   "cell_type": "code",
   "execution_count": null,
   "metadata": {},
   "outputs": [],
   "source": []
  },
  {
   "cell_type": "markdown",
   "metadata": {},
   "source": [
    "question 6  Explain the concept of generators in Python and how they are defined"
   ]
  },
  {
   "cell_type": "markdown",
   "metadata": {},
   "source": [
    "Generators in Python are a special type of function that allow you to iterate over a sequence of values without storing the entire sequence in memory. This makes them more memory-efficient, especially when dealing with large datasets or streams of data.\n",
    "\n",
    "How Generators Work\n",
    "Generators are defined using the def keyword, just like regular functions, but they use the yield keyword instead of return to produce a series of values. When a generator function is called, it returns a generator object that can be iterated over."
   ]
  },
  {
   "cell_type": "code",
   "execution_count": 20,
   "metadata": {},
   "outputs": [
    {
     "name": "stdout",
     "output_type": "stream",
     "text": [
      "1\n",
      "2\n",
      "3\n"
     ]
    }
   ],
   "source": [
    "def simple_generator():\n",
    "    yield 1\n",
    "    yield 2\n",
    "    yield 3\n",
    "\n",
    "# Using the generator\n",
    "for value in simple_generator():\n",
    "    print(value)\n",
    "    #In this example, the simple_generator function yields three values, one at a time. Each time the yield statement is encountered,\n",
    "    #  the function’s state is saved, and the value is returned to the caller. When the function is called again, it resumes execution \n",
    "    # right after the last yield statement."
   ]
  },
  {
   "cell_type": "code",
   "execution_count": null,
   "metadata": {},
   "outputs": [],
   "source": []
  },
  {
   "cell_type": "code",
   "execution_count": null,
   "metadata": {},
   "outputs": [],
   "source": []
  },
  {
   "cell_type": "code",
   "execution_count": null,
   "metadata": {},
   "outputs": [],
   "source": []
  },
  {
   "cell_type": "markdown",
   "metadata": {},
   "source": [
    "question 7  What are the advantages of using generators over regular functions?"
   ]
  },
  {
   "cell_type": "code",
   "execution_count": 21,
   "metadata": {},
   "outputs": [],
   "source": [
    "# Generators offer several advantages over regular functions, especially when dealing with large data sets or streams of data. Here are some key benefits:\n",
    "\n",
    "# Memory Efficiency: Generators yield items one at a time and only when requested, rather than generating all items at once and storing them in memory.\n",
    "#  This is particularly useful when working with large datasets or when memory resources are limited.\n",
    "\n",
    "# Lazy Evaluation: Generators use lazy evaluation, meaning they produce items on-the-fly rather than computing all items upfront. This can lead to significant\n",
    "#  performance improvements and reduced computation time, especially if not all generated values are needed.\n",
    "\n",
    "# State Preservation: Generators maintain their state between calls. This allows you to resume execution from where you left off, without having to re-compute \n",
    "# previous values. This can simplify complex iterations and state management.\n",
    "\n",
    "# Reduced Overhead: Because generators only compute values as needed, they often have less overhead compared to regular functions that might need to precompute\n",
    "#  and store all results before returning them.\n",
    "\n",
    "# Stream Processing: Generators are ideal for processing data streams where you want to handle data as it arrives. This can be useful for tasks like reading \n",
    "# lines from a large file or processing real-time data.\n",
    "\n",
    "# Simpler Code: Using generators can simplify code that deals with iteration and state management, reducing the need for explicit loop control variables and temporary storage.\n",
    "\n",
    "# Pipelining: Generators can be easily used in pipelines where each generator feeds into the next. This chaining capability allows for efficient data processing \n",
    "# and transformation in a clean and readable manner."
   ]
  },
  {
   "cell_type": "code",
   "execution_count": 22,
   "metadata": {},
   "outputs": [
    {
     "name": "stdout",
     "output_type": "stream",
     "text": [
      "0\n",
      "1\n",
      "2\n",
      "3\n",
      "4\n",
      "5\n",
      "6\n",
      "7\n",
      "8\n",
      "9\n"
     ]
    }
   ],
   "source": [
    "#regular function example\n",
    "def get_numbers(n):\n",
    "    numbers = []\n",
    "    for i in range(n):\n",
    "        numbers.append(i)\n",
    "    return numbers\n",
    "\n",
    "for num in get_numbers(10):\n",
    "    print(num)"
   ]
  },
  {
   "cell_type": "code",
   "execution_count": 24,
   "metadata": {},
   "outputs": [
    {
     "name": "stdout",
     "output_type": "stream",
     "text": [
      "0\n",
      "1\n",
      "2\n",
      "3\n",
      "4\n",
      "5\n",
      "6\n",
      "7\n",
      "8\n",
      "9\n"
     ]
    }
   ],
   "source": [
    "#generator \n",
    "def get_numbers(n):\n",
    "    for i in range(n):\n",
    "        yield i\n",
    "\n",
    "for num in get_numbers(10):\n",
    "    print(num)"
   ]
  },
  {
   "cell_type": "markdown",
   "metadata": {},
   "source": []
  },
  {
   "cell_type": "markdown",
   "metadata": {},
   "source": []
  },
  {
   "cell_type": "markdown",
   "metadata": {},
   "source": []
  },
  {
   "cell_type": "markdown",
   "metadata": {},
   "source": [
    "question 8  What is a lambda function in Python and when is it typically used?"
   ]
  },
  {
   "cell_type": "markdown",
   "metadata": {},
   "source": [
    "A lambda function in Python is a small, anonymous function defined with the lambda keyword. Unlike regular functions defined with the def keyword, lambda functions are typically used for short, throwaway functions that are needed temporarily.\n"
   ]
  },
  {
   "cell_type": "code",
   "execution_count": 25,
   "metadata": {},
   "outputs": [
    {
     "data": {
      "text/plain": [
       "<function __main__.<lambda>(arguments)>"
      ]
     },
     "execution_count": 25,
     "metadata": {},
     "output_type": "execute_result"
    }
   ],
   "source": [
    "lambda arguments: expression\n"
   ]
  },
  {
   "cell_type": "code",
   "execution_count": 26,
   "metadata": {},
   "outputs": [],
   "source": [
    "# Here’s a breakdown of how it works:\n",
    "\n",
    "# lambda: This keyword is used to indicate that a lambda function is being defined.\n",
    "# arguments: These are the parameters passed to the lambda function, similar to parameters in a regular function.\n",
    "# expression: This is a single expression that the lambda function computes and returns."
   ]
  },
  {
   "cell_type": "code",
   "execution_count": 27,
   "metadata": {},
   "outputs": [
    {
     "name": "stdout",
     "output_type": "stream",
     "text": [
      "5\n",
      "5\n"
     ]
    }
   ],
   "source": [
    "# Regular function\n",
    "def add(x, y):\n",
    "    return x + y\n",
    "\n",
    "# Lambda function\n",
    "add_lambda = lambda x, y: x + y\n",
    "\n",
    "print(add(2, 3))         \n",
    "print(add_lambda(2, 3))  "
   ]
  },
  {
   "cell_type": "code",
   "execution_count": 28,
   "metadata": {},
   "outputs": [],
   "source": [
    "# Typical Uses of Lambda Functions:\n",
    "\n",
    "# Short-Term Functions: Lambda functions are often used when a function is needed for a short period and doesn’t require a name. \n",
    "# They are particularly useful when a function is used as an argument to another function.\n",
    "\n",
    "# Functional Programming Constructs: Lambda functions are frequently used with functions like map(), filter(), and sorted() where small functions\n",
    "#  are needed for short-term operations."
   ]
  },
  {
   "cell_type": "code",
   "execution_count": 29,
   "metadata": {},
   "outputs": [
    {
     "name": "stdout",
     "output_type": "stream",
     "text": [
      "[1, 4, 9, 16, 25]\n"
     ]
    }
   ],
   "source": [
    "#map() Example: Applies a function to all items in an input list.\n",
    "numbers = [1, 2, 3, 4, 5]\n",
    "squared = list(map(lambda x: x ** 2, numbers))\n",
    "print(squared)  # Output: [1, 4, 9, 16, 25]"
   ]
  },
  {
   "cell_type": "code",
   "execution_count": 30,
   "metadata": {},
   "outputs": [
    {
     "name": "stdout",
     "output_type": "stream",
     "text": [
      "[2, 4]\n"
     ]
    }
   ],
   "source": [
    "#filter() Example: Filters items in a list based on a function.\n",
    "numbers = [1, 2, 3, 4, 5]\n",
    "even_numbers = list(filter(lambda x: x % 2 == 0, numbers))\n",
    "print(even_numbers)  # Output: [2, 4]"
   ]
  },
  {
   "cell_type": "code",
   "execution_count": 31,
   "metadata": {},
   "outputs": [
    {
     "name": "stdout",
     "output_type": "stream",
     "text": [
      "[('cherry', 1), ('banana', 2), ('apple', 3)]\n"
     ]
    }
   ],
   "source": [
    "#sorted() Example: Sorts items based on a custom key.\n",
    "data = [('apple', 3), ('banana', 2), ('cherry', 1)]\n",
    "sorted_data = sorted(data, key=lambda item: item[1])\n",
    "print(sorted_data)  # Output: [('cherry', 1), ('banana', 2), ('apple', 3)]"
   ]
  },
  {
   "cell_type": "code",
   "execution_count": null,
   "metadata": {},
   "outputs": [],
   "source": [
    "# Inline Use: Lambda functions are often used when a function is needed only in a specific context, such as in event handling or in a single-use scenario.\n",
    "\n",
    "# Simple Operations: They are ideal for simple operations where defining a full function might be overkill. If you need a quick function to perform a small \n",
    "# task, lambda can be a concise solution"
   ]
  },
  {
   "cell_type": "markdown",
   "metadata": {},
   "source": []
  },
  {
   "cell_type": "markdown",
   "metadata": {},
   "source": []
  },
  {
   "cell_type": "markdown",
   "metadata": {},
   "source": []
  },
  {
   "cell_type": "markdown",
   "metadata": {},
   "source": [
    "question 9 . Explain the purpose and usage of the `map()` function in Python.\n"
   ]
  },
  {
   "cell_type": "code",
   "execution_count": 32,
   "metadata": {},
   "outputs": [
    {
     "name": "stdout",
     "output_type": "stream",
     "text": [
      "[1, 4, 9, 16, 25]\n"
     ]
    }
   ],
   "source": [
    "# The map() function in Python is a built-in function used to apply a given function to each item of an iterable\n",
    "#  (such as a list, tuple, or set) and return an iterable (specifically, a map object) with the results. \n",
    "# It’s a convenient way to perform transformations or operations on all elements of a collection without needing explicit loops.\n",
    "\n",
    "# Purpose:\n",
    "\n",
    "# The map() function is designed to:\n",
    "\n",
    "# Apply a Function to Each Item: Transform each item in an iterable based on a given function.\n",
    "# Simplify Code: Reduce the need for explicit loops and make the code more readable and concise.\n",
    "# Enhance Functional Programming: Support functional programming paradigms by allowing functions to be passed as arguments and applied across collections.\n",
    "\n",
    "#map() Example: Applies a function to all items in an input list.\n",
    "numbers = [1, 2, 3, 4, 5]\n",
    "squared = list(map(lambda x: x ** 2, numbers))\n",
    "print(squared)  # Output: [1, 4, 9, 16, 25]"
   ]
  },
  {
   "cell_type": "markdown",
   "metadata": {},
   "source": []
  },
  {
   "cell_type": "markdown",
   "metadata": {},
   "source": []
  },
  {
   "cell_type": "markdown",
   "metadata": {},
   "source": []
  },
  {
   "cell_type": "markdown",
   "metadata": {},
   "source": [
    "question 10 What is the difference between `map()`, `reduce()`, and `filter()` functions in Python?"
   ]
  },
  {
   "cell_type": "code",
   "execution_count": 33,
   "metadata": {},
   "outputs": [
    {
     "name": "stdout",
     "output_type": "stream",
     "text": [
      "[1, 4, 9, 16]\n"
     ]
    }
   ],
   "source": [
    "# The map(), reduce(), and filter() functions in Python are all used for functional programming, but they serve different purposes and operate in distinct ways.\n",
    "# Here’s a breakdown of their differences:\n",
    "\n",
    "# 1. map()\n",
    "# Purpose: Apply a function to each item in an iterable and return an iterable (map object) with the results.\n",
    "\n",
    "# Usage:\n",
    "\n",
    "# Function: Takes a function and one or more iterables as arguments.\n",
    "# Return Value: A map object, which is an iterator, and can be converted to a list, tuple, etc.\n",
    "\n",
    "numbers = [1, 2, 3, 4]\n",
    "squared = map(lambda x: x ** 2, numbers)\n",
    "print(list(squared))\n",
    "\n",
    "# Characteristics:\n",
    "\n",
    "# Transforms each element of the iterable based on the function provided.\n",
    "# The function can be a named function or a lambda function.\n",
    "# Can work with multiple iterables if the function accepts more than one argument.\n",
    "\n"
   ]
  },
  {
   "cell_type": "code",
   "execution_count": 34,
   "metadata": {},
   "outputs": [
    {
     "name": "stdout",
     "output_type": "stream",
     "text": [
      "24\n"
     ]
    }
   ],
   "source": [
    "# 2. reduce()\n",
    "# Purpose: Apply a binary function (a function that takes two arguments) cumulatively to the items of an iterable, reducing the iterable to a single accumulated result.\n",
    "\n",
    "# Usage:\n",
    "\n",
    "# Function: Takes a function and an iterable as arguments. The function must accept two arguments.\n",
    "# Return Value: A single value that is the result of applying the function cumulatively to the iterable’s items.\n",
    "\n",
    "from functools import reduce\n",
    "\n",
    "numbers = [1, 2, 3, 4]\n",
    "product = reduce(lambda x, y: x * y, numbers)\n",
    "print(product) \n",
    "\n",
    "# Characteristics:\n",
    "\n",
    "# Reduces an iterable to a single value by applying a function cumulatively.\n",
    "# Requires importing from the functools module.\n",
    "# The function should be associative to ensure correct results.\n",
    "\n"
   ]
  },
  {
   "cell_type": "code",
   "execution_count": 35,
   "metadata": {},
   "outputs": [
    {
     "name": "stdout",
     "output_type": "stream",
     "text": [
      "[2, 4]\n"
     ]
    }
   ],
   "source": [
    "# 3. filter()\n",
    "# Purpose: Filter elements from an iterable based on a predicate function (a function that returns True or False), returning only those elements that satisfy the condition.\n",
    "\n",
    "# Usage:\n",
    "\n",
    "# Function: Takes a predicate function and an iterable as arguments.\n",
    "# Return Value: A filter object, which is an iterator, and can be converted to a list, tuple, etc.\n",
    "\n",
    "numbers = [1, 2, 3, 4, 5]\n",
    "even_numbers = filter(lambda x: x % 2 == 0, numbers)\n",
    "print(list(even_numbers)) \n",
    "\n",
    "# Characteristics:\n",
    "\n",
    "# Filters elements based on the boolean outcome of the predicate function.\n",
    "# The predicate function returns True or False for each element.\n",
    "# Can be used to remove elements that do not satisfy a condition."
   ]
  },
  {
   "cell_type": "raw",
   "metadata": {},
   "source": [
    "11. Using pen & Paper write the internal mechanism for sum operation using  reduce function on this given list:[47,11,42,13]; "
   ]
  },
  {
   "cell_type": "code",
   "execution_count": 9,
   "metadata": {},
   "outputs": [
    {
     "name": "stdout",
     "output_type": "stream",
     "text": [
      "113\n"
     ]
    }
   ],
   "source": [
    "from functools import reduce\n",
    "def add (x,y):\n",
    "    return x+y\n",
    "numbers = [47,11,42,13]\n",
    "result = reduce (add, numbers)\n",
    "print (result)\n"
   ]
  },
  {
   "cell_type": "markdown",
   "metadata": {},
   "source": [
    "Practical Questions"
   ]
  },
  {
   "cell_type": "markdown",
   "metadata": {},
   "source": [
    " 1. Write a Python function that takes a list of numbers as input and returns the sum of all even numbers in \n",
    "the list."
   ]
  },
  {
   "cell_type": "code",
   "execution_count": 9,
   "metadata": {},
   "outputs": [
    {
     "data": {
      "text/plain": [
       "20"
      ]
     },
     "execution_count": 9,
     "metadata": {},
     "output_type": "execute_result"
    }
   ],
   "source": [
    "def even_sum(numbers):\n",
    "    sum=0\n",
    "    for i in numbers:\n",
    "        if i%2==0:\n",
    "            sum=sum+i\n",
    "    return sum        \n",
    "even_sum([1,2,3,4,5,6,7,8])"
   ]
  },
  {
   "cell_type": "code",
   "execution_count": null,
   "metadata": {},
   "outputs": [],
   "source": []
  },
  {
   "cell_type": "markdown",
   "metadata": {},
   "source": [
    "2. Create a Python function that accepts a string and returns the reverse of that string."
   ]
  },
  {
   "cell_type": "code",
   "execution_count": 11,
   "metadata": {},
   "outputs": [
    {
     "name": "stdout",
     "output_type": "stream",
     "text": [
      "!dlroW ,olleH\n"
     ]
    }
   ],
   "source": [
    "def reverse_string(s):\n",
    "    return s[::-1]\n",
    "# Example usage\n",
    "string1 = \"Hello, World!\"\n",
    "reversed_string = reverse_string(string1)\n",
    "print(reversed_string)"
   ]
  },
  {
   "cell_type": "code",
   "execution_count": null,
   "metadata": {},
   "outputs": [],
   "source": []
  },
  {
   "cell_type": "markdown",
   "metadata": {},
   "source": [
    " 3. Implement a Python function that takes a list of integers and returns a new list containing the squares of \n",
    "each number."
   ]
  },
  {
   "cell_type": "code",
   "execution_count": 15,
   "metadata": {},
   "outputs": [
    {
     "data": {
      "text/plain": [
       "[1, 4, 9, 16, 25, 36, 49]"
      ]
     },
     "execution_count": 15,
     "metadata": {},
     "output_type": "execute_result"
    }
   ],
   "source": [
    "l = [1,2,3,4,5,6,7]\n",
    "def square(l):\n",
    "    sq = []\n",
    "    for i in l:\n",
    "        sq.append(i**2)\n",
    "    return sq \n",
    "square(l)"
   ]
  },
  {
   "cell_type": "code",
   "execution_count": null,
   "metadata": {},
   "outputs": [],
   "source": []
  },
  {
   "cell_type": "markdown",
   "metadata": {},
   "source": [
    " 4. Write a Python function that checks if a given number is prime or not from 1 to 200"
   ]
  },
  {
   "cell_type": "code",
   "execution_count": 23,
   "metadata": {},
   "outputs": [
    {
     "name": "stdout",
     "output_type": "stream",
     "text": [
      "Not Prime\n",
      "Prime number\n"
     ]
    }
   ],
   "source": [
    "def check_prime(num):\n",
    "   \n",
    "    if num <= 1:\n",
    "        print(\"Not Prime\")\n",
    "        return\n",
    "    \n",
    "    is_prime = True\n",
    "    \n",
    "    for i in range(2, num):\n",
    "        if num % i == 0:\n",
    "            is_prime = False\n",
    "            break\n",
    "    \n",
    "    if is_prime:\n",
    "        print(\"Prime number\")\n",
    "    else:\n",
    "        print(\"Not Prime\")\n",
    "\n",
    "num = 10\n",
    "check_prime(num) \n",
    "\n",
    "num = 13\n",
    "check_prime(num)  \n"
   ]
  },
  {
   "cell_type": "markdown",
   "metadata": {},
   "source": [
    " 5. Create an iterator class in Python that generates the Fibonacci sequence up to a specified number of \n",
    "terms"
   ]
  },
  {
   "cell_type": "code",
   "execution_count": 25,
   "metadata": {},
   "outputs": [
    {
     "name": "stdout",
     "output_type": "stream",
     "text": [
      "0\n",
      "1\n",
      "1\n",
      "2\n",
      "3\n",
      "5\n",
      "8\n",
      "13\n",
      "21\n",
      "34\n"
     ]
    }
   ],
   "source": [
    "class FibonacciIterator:\n",
    "    def __init__(self, num_terms):\n",
    "\n",
    "        self.num_terms = num_terms\n",
    "        self.current = 0\n",
    "        self.a, self.b = 0, 1\n",
    "    \n",
    "    def __iter__(self):\n",
    "        return self\n",
    "    \n",
    "    def __next__(self):\n",
    "        \n",
    "        if self.current >= self.num_terms:\n",
    "            raise StopIteration\n",
    "        \n",
    "    \n",
    "        if self.current == 0:\n",
    "            result = self.a\n",
    "        elif self.current == 1:\n",
    "            result = self.b\n",
    "        else:\n",
    "            result = self.a + self.b\n",
    "            self.a, self.b = self.b, result\n",
    "        \n",
    "        \n",
    "        self.current += 1\n",
    "        \n",
    "        return result\n",
    "\n",
    "\n",
    "num_terms = 10\n",
    "fib_iterator = FibonacciIterator(num_terms)\n",
    "\n",
    "for num in fib_iterator:\n",
    "    print(num)\n"
   ]
  },
  {
   "cell_type": "markdown",
   "metadata": {},
   "source": [
    "6. Write a generator function in Python that yields the powers of 2 up to a given exponent"
   ]
  },
  {
   "cell_type": "code",
   "execution_count": 28,
   "metadata": {},
   "outputs": [
    {
     "name": "stdout",
     "output_type": "stream",
     "text": [
      "1\n",
      "2\n",
      "4\n",
      "8\n",
      "16\n",
      "32\n"
     ]
    }
   ],
   "source": [
    "def powers_of_two(exponent):\n",
    " \n",
    "    for i in range(exponent + 1):\n",
    "        yield 2 ** i\n",
    "\n",
    "\n",
    "max_exponent = 5\n",
    "for power in powers_of_two(max_exponent):\n",
    "    print(power)"
   ]
  },
  {
   "cell_type": "markdown",
   "metadata": {},
   "source": [
    "7. Implement a generator function that reads a file line by line and yields each line as a string."
   ]
  },
  {
   "cell_type": "code",
   "execution_count": 30,
   "metadata": {},
   "outputs": [
    {
     "name": "stdout",
     "output_type": "stream",
     "text": [
      "Error: The file example.txt was not found.\n"
     ]
    }
   ],
   "source": [
    "def read_lines(filename):\n",
    " \n",
    "    try:\n",
    "        with open(filename, 'r') as file:\n",
    "            for line in file:\n",
    "                yield line.rstrip('\\n') \n",
    "    except FileNotFoundError:\n",
    "        print(f\"Error: The file {filename} was not found.\")\n",
    "    except IOError as e:\n",
    "        print(f\"Error: An IOError occurred. Details: {e}\")\n",
    "\n",
    "filename = 'example.txt'\n",
    "for line in read_lines(filename):\n",
    "    print(line)\n"
   ]
  },
  {
   "cell_type": "markdown",
   "metadata": {},
   "source": [
    " 8. Use a lambda function in Python to sort a list of tuples based on the second element of each tuple"
   ]
  },
  {
   "cell_type": "code",
   "execution_count": 32,
   "metadata": {},
   "outputs": [
    {
     "name": "stdout",
     "output_type": "stream",
     "text": [
      "[(4, 1), (2, 3), (3, 4), (1, 5)]\n"
     ]
    }
   ],
   "source": [
    "tuples_list = [(1, 5), (2, 3), (3, 4), (4, 1)]\n",
    "sorted_list = sorted(tuples_list, key=lambda x: x[1])\n",
    "print(sorted_list)"
   ]
  },
  {
   "cell_type": "markdown",
   "metadata": {},
   "source": [
    "9. Write a Python program that uses map() to convert a list of temperatures from Celsius to Fahrenheit"
   ]
  },
  {
   "cell_type": "code",
   "execution_count": 34,
   "metadata": {},
   "outputs": [
    {
     "name": "stdout",
     "output_type": "stream",
     "text": [
      "[32.0, 50.0, 68.0, 86.0, 104.0, 212.0]\n"
     ]
    }
   ],
   "source": [
    "celsius_temps = [0, 10, 20, 30, 40, 100]\n",
    "def celsius_to_fahrenheit(celsius):\n",
    "    \"\"\"Convert Celsius to Fahrenheit.\"\"\"\n",
    "    return (celsius * 9/5) + 32\n",
    "fahrenheit_temps = list(map(celsius_to_fahrenheit, celsius_temps))\n",
    "print(fahrenheit_temps)"
   ]
  },
  {
   "cell_type": "code",
   "execution_count": null,
   "metadata": {},
   "outputs": [],
   "source": []
  },
  {
   "cell_type": "markdown",
   "metadata": {},
   "source": [
    "10. Create a Python program that uses filter() to remove all the vowels from a given string."
   ]
  },
  {
   "cell_type": "code",
   "execution_count": 36,
   "metadata": {},
   "outputs": [
    {
     "name": "stdout",
     "output_type": "stream",
     "text": [
      "Hll, Wrld!\n"
     ]
    }
   ],
   "source": [
    "def is_not_vowel(char):\n",
    "   \n",
    "    return char.lower() not in \n",
    "\n",
    "# Given string\n",
    "input_string = \"Hello, World!\"\n",
    "\n",
    "# Use filter() to remove vowels\n",
    "filtered_chars = filter(is_not_vowel, input_string)\n",
    "\n",
    "# Convert the filter object to a string and print it\n",
    "result_string = ''.join(filtered_chars)\n",
    "print(result_string)"
   ]
  },
  {
   "cell_type": "code",
   "execution_count": 38,
   "metadata": {},
   "outputs": [
    {
     "name": "stdout",
     "output_type": "stream",
     "text": [
      "[(1, 70.0), (2, 60.0), (3, 100.0), (4, 120.0)]\n"
     ]
    }
   ],
   "source": [
    "def calculate_totals(orders):\n",
    "  \n",
    "    return list(map(lambda order: (\n",
    "        order[0],  # order number\n",
    "        max(order[1] * order[2] + 10, order[1] * order[2]) if order[1] * order[2] < 100 else order[1] * order[2]\n",
    "    ), orders))\n",
    "\n",
    "# Example usage:\n",
    "orders = [\n",
    "    [1, 20.0, 3],   # 1st order\n",
    "    [2, 5.0, 10],   # 2nd order\n",
    "    [3, 50.0, 2],   # 3rd order\n",
    "    [4, 15.0, 8]    # 4th order\n",
    "]\n",
    "\n",
    "results = calculate_totals(orders)\n",
    "print(results)"
   ]
  },
  {
   "cell_type": "markdown",
   "metadata": {},
   "source": [
    "11. Write a python program using lambda and map."
   ]
  },
  {
   "cell_type": "code",
   "execution_count": 8,
   "metadata": {},
   "outputs": [
    {
     "name": "stdout",
     "output_type": "stream",
     "text": [
      "[(34587, 8), (98762, 8), (77226, 108.85000000000001), (88112, 84.97)]\n"
     ]
    }
   ],
   "source": [
    "# Sample list of orders: [order_number, price_per_item, quantityl\n",
    "orders = [ [34587, 4, 40.95], [98762, 5, 56.80], [77226, 3, 32.95], [88112, 3, 24.99]]\n",
    "# Lambda function to calculate the adjusted total value\n",
    "\n",
    "adjust_order_value = lambda order: (order[0], order [1] * order [2] +10 if order [1] * order [2] < 100 else 8) # Total price with pos:\n",
    "# Use map() to apply the lambda function to each other\n",
    "result = list(map(adjust_order_value, orders))\n",
    "print(result) # Output: [(34587, 0), (98762, 0), (77226, 108.85000000000001), (88112,84.97)]\n"
   ]
  }
 ],
 "metadata": {
  "kernelspec": {
   "display_name": "Python 3 (ipykernel)",
   "language": "python",
   "name": "python3"
  },
  "language_info": {
   "codemirror_mode": {
    "name": "ipython",
    "version": 3
   },
   "file_extension": ".py",
   "mimetype": "text/x-python",
   "name": "python",
   "nbconvert_exporter": "python",
   "pygments_lexer": "ipython3",
   "version": "3.10.8"
  }
 },
 "nbformat": 4,
 "nbformat_minor": 4
}
